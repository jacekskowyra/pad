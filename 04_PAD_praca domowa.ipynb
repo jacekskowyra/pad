{
 "cells": [
  {
   "cell_type": "markdown",
   "metadata": {
    "id": "6s5atoa1swg0"
   },
   "source": [
    "Zadanie 1 (5 pkt)\n",
    "\n",
    "\n",
    "Wgraj zawartość pliku orders.csv do ramki danych.\n",
    "Przyjrzyj się danym, wykorzystując poznane metody (describe, info, head) zanalizuj dane.\n",
    "\n",
    "Następnie:\n",
    "\n",
    "\n",
    "\n",
    "1. Zamień order_date na format daty. Upewnij się, że w rezultacie data będzie w formacie: rok-miesiąc-dzień;\n",
    "2. Sprawdź ile i jakie unikalne wartości znajdują się w kolumnie T-shirt category;\n",
    "3. Wyczyść kolumnę tshirt_category normalizując nazwy produktów. Upewnij się, że dla każdej kategorii funkcjonuje jedna nazwa, np. zamiast white i wh jest tylko jedna wersja white. Skorzystaj z klasy string i metody apply;\n",
    "4. Rozdziel kolumnę tshirt category na 3 kolumny: tshirt_type, która będzie mówiła o tym czy jest to koszulka, bluza czy coś innego, tshirt_size, która będzie informowała o rozmiarze koszulki, i tshirt_colour, która będzie informowała o kolorze. Skorzystaj z metody apply.\n",
    "5. Znajdź zamówienia złożone między 31 grudnia 2014 a 2 sierpnia 2016.\n"
   ]
  },
  {
   "cell_type": "code",
   "execution_count": null,
   "metadata": {
    "id": "Ktake9Iqsl1O"
   },
   "outputs": [],
   "source": []
  },
  {
   "cell_type": "markdown",
   "metadata": {
    "id": "g0QB8rtHtGhT"
   },
   "source": [
    "Zadanie 2 (4 pkt)\n",
    "\n",
    "\n",
    "Wgraj plik customers.csv do ramki danych. \n",
    "\n",
    "Następnie:\n",
    "1. Wypisz kolumny;\n",
    "2. Porównaj rozmiar ramki z rozmiarem ramki w zadaniu 1;\n",
    "3. Zmień nazwę kolumny customerID  na customer_id upewniając się, że dane zmiana zostanie zapisana w pamięci dzięki jednemu z argumentów metody do zmiany nazwy kolumny;\n",
    "4. Połącz ramkę orders z ramką customers po kolumnie customer_id. Z której metody skorzystasz? Zostaw odpowiedź w komentarzu do zadania w kodzie (np. blok komentarzem ‘’’ ‘’’).\n"
   ]
  },
  {
   "cell_type": "code",
   "execution_count": null,
   "metadata": {
    "id": "_rfPFhLGtRm-"
   },
   "outputs": [],
   "source": []
  },
  {
   "cell_type": "markdown",
   "metadata": {
    "id": "bCKqMqJQtR8s"
   },
   "source": [
    "Zadanie 3 (1 pkt)\n",
    "\n",
    "Nową ramkę (połączenie orders i customers) zapisz do pliku csv, ale zapisz bez kolumny z indeksem.\n"
   ]
  },
  {
   "cell_type": "code",
   "execution_count": null,
   "metadata": {
    "id": "J2gA9RVStSTa"
   },
   "outputs": [],
   "source": []
  }
 ],
 "metadata": {
  "colab": {
   "authorship_tag": "ABX9TyM/IEyKrBImMU7q537NwTDt",
   "provenance": []
  },
  "kernelspec": {
   "display_name": "Python 3 (ipykernel)",
   "language": "python",
   "name": "python3"
  },
  "language_info": {
   "codemirror_mode": {
    "name": "ipython",
    "version": 3
   },
   "file_extension": ".py",
   "mimetype": "text/x-python",
   "name": "python",
   "nbconvert_exporter": "python",
   "pygments_lexer": "ipython3",
   "version": "3.7.13"
  }
 },
 "nbformat": 4,
 "nbformat_minor": 1
}
