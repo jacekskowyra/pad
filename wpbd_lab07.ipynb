{
  "nbformat": 4,
  "nbformat_minor": 0,
  "metadata": {
    "colab": {
      "provenance": []
    },
    "kernelspec": {
      "name": "python3",
      "display_name": "Python 3"
    },
    "language_info": {
      "name": "python"
    }
  },
  "cells": [
    {
      "cell_type": "code",
      "execution_count": 1,
      "metadata": {
        "id": "LYxndDU0Rdm-"
      },
      "outputs": [],
      "source": [
        "!apt-get install openjdk-11-jdk-headless -qq > /dev/null\n",
        "!wget -q https://dlcdn.apache.org/spark/spark-3.3.1/spark-3.3.1-bin-hadoop3.tgz"
      ]
    },
    {
      "cell_type": "code",
      "source": [
        "!tar xf spark-3.3.1-bin-hadoop3.tgz"
      ],
      "metadata": {
        "id": "G_j6vU3PRmRw"
      },
      "execution_count": 2,
      "outputs": []
    },
    {
      "cell_type": "code",
      "source": [
        "import os\n",
        "os.environ[\"JAVA_HOME\"] = \"/usr/lib/jvm/java-11-openjdk-amd64\"\n",
        "os.environ[\"SPARK_HOME\"] = \"/content/spark-3.3.1-bin-hadoop3\""
      ],
      "metadata": {
        "id": "NKv92ZMZRpp4"
      },
      "execution_count": 3,
      "outputs": []
    },
    {
      "cell_type": "code",
      "source": [
        "!pip install -q findspark"
      ],
      "metadata": {
        "id": "6ZdtzXt8RsYV"
      },
      "execution_count": 4,
      "outputs": []
    },
    {
      "cell_type": "code",
      "source": [
        "import findspark\n",
        "\n",
        "findspark.init()"
      ],
      "metadata": {
        "id": "juQlbe8IRsZF"
      },
      "execution_count": 5,
      "outputs": []
    },
    {
      "cell_type": "code",
      "source": [
        "import multiprocessing\n",
        "\n",
        "import pyspark\n",
        "\n",
        "cfg = (\n",
        "    pyspark.SparkConf()\n",
        "    # Ustawienie mastera, aby działał lokalnie iz maksymalną liczbą rdzeni procesora do wieloprocesorowości.\n",
        "    .setMaster(f\"local[{multiprocessing.cpu_count()}]\")\n",
        "    # Ustawianie nazwy aplikacji\n",
        "    .setAppName(\"TestApp\")\n",
        "    # Ustawienie wartości konfiguracji za pomocą ciągu znaków\n",
        "    .set(\"spark.eventLog.enabled\", False)\n",
        "    # Ustawianie zmiennych środowiskowych dla executorów do użycia\n",
        "    .setExecutorEnv(pairs=[(\"VAR3\", \"value3\"), (\"VAR4\", \"value4\")])\n",
        "    # Ustawienie pamięci, jeśli to ustawienie nie zostało wcześniej zrobione\n",
        "    .setIfMissing(\"spark.executor.memory\", \"1g\")\n",
        ")\n",
        "\n",
        "# Pobieranie pojedynczej zmiennej\n",
        "print(cfg.get(\"spark.executor.memory\"))\n",
        "# Lista wszystkich z nich w formacie czytelnego napisu (stringa)\n",
        "print(cfg.toDebugString())"
      ],
      "metadata": {
        "colab": {
          "base_uri": "https://localhost:8080/"
        },
        "id": "Hf96aM8sR12X",
        "outputId": "6e24d984-1c7f-48c4-9d70-2285dff513fc"
      },
      "execution_count": 6,
      "outputs": [
        {
          "output_type": "stream",
          "name": "stdout",
          "text": [
            "1g\n",
            "spark.master=local[2]\n",
            "spark.app.name=TestApp\n",
            "spark.eventLog.enabled=False\n",
            "spark.executorEnv.VAR3=value3\n",
            "spark.executorEnv.VAR4=value4\n",
            "spark.executor.memory=1g\n"
          ]
        }
      ]
    },
    {
      "cell_type": "code",
      "source": [
        "from pyspark.sql import SparkSession\n",
        "from pyspark.sql import Row\n",
        "from pyspark.sql import functions as func\n",
        "\n",
        "\n",
        "spark = SparkSession.builder.appName(\"SparkSQL_Total_By_Customer\").getOrCreate()\n"
      ],
      "metadata": {
        "id": "9TOqwkQHSHYm"
      },
      "execution_count": 84,
      "outputs": []
    },
    {
      "cell_type": "code",
      "source": [
        "def mapper(line):\n",
        "    fields = line.split(',')\n",
        "    return Row(client=int(fields[0]), strange=int(fields[1]), spent=float(fields[2]))"
      ],
      "metadata": {
        "id": "j7-7ddV8SX43"
      },
      "execution_count": 26,
      "outputs": []
    },
    {
      "cell_type": "code",
      "source": [
        "lines = spark.sparkContext.textFile(\"customer-orders.csv\")"
      ],
      "metadata": {
        "id": "lipAU9alSwah"
      },
      "execution_count": 27,
      "outputs": []
    },
    {
      "cell_type": "code",
      "source": [
        "customers = lines.map(mapper)\n"
      ],
      "metadata": {
        "id": "6AZrdlCbTLmc"
      },
      "execution_count": 86,
      "outputs": []
    },
    {
      "cell_type": "code",
      "source": [
        "schemaCustomers = spark.createDataFrame(customers).cache()\n",
        "schemaCustomers.createOrReplaceTempView(\"customers\")\n",
        "schemaCustomers1 = schemaCustomers.select(\"client\",\"spent\")\n"
      ],
      "metadata": {
        "id": "imttSsMTTPY5"
      },
      "execution_count": 89,
      "outputs": []
    },
    {
      "cell_type": "code",
      "source": [
        "schemaCustomers1.groupBy(\"client\").agg(func.round(func.sum(\"spent\"),2).alias(\"spentby\")).show()\n"
      ],
      "metadata": {
        "colab": {
          "base_uri": "https://localhost:8080/"
        },
        "id": "NFMyO4ZtgFrZ",
        "outputId": "74d1c179-6855-4c50-9ae8-f694ea710e78"
      },
      "execution_count": 90,
      "outputs": [
        {
          "output_type": "stream",
          "name": "stdout",
          "text": [
            "+------+-------+\n",
            "|client|spentby|\n",
            "+------+-------+\n",
            "|    29|5032.53|\n",
            "|    26| 5250.4|\n",
            "|    65|5140.35|\n",
            "|    54|6065.39|\n",
            "|    19|5059.43|\n",
            "|     0|5524.95|\n",
            "|    22|5019.45|\n",
            "|     7|4755.07|\n",
            "|    77|4327.73|\n",
            "|    34| 5330.8|\n",
            "|    50|4517.27|\n",
            "|    94|4475.57|\n",
            "|    57| 4628.4|\n",
            "|    43|5368.83|\n",
            "|    32|5496.05|\n",
            "|    84|4652.94|\n",
            "|    31|4765.05|\n",
            "|    98|4297.26|\n",
            "|    39|6193.11|\n",
            "|    25|5057.61|\n",
            "+------+-------+\n",
            "only showing top 20 rows\n",
            "\n"
          ]
        }
      ]
    },
    {
      "cell_type": "code",
      "source": [
        "schemaCustomers1.groupBy(\"client\").agg(func.round(func.sum(\"spent\"),2).alias(\"spentby\")).sort(\"spentby\").show()\n"
      ],
      "metadata": {
        "colab": {
          "base_uri": "https://localhost:8080/"
        },
        "id": "7fczQRRzVp_u",
        "outputId": "ffa454a4-563a-4905-fdde-7e0f444a9ec1"
      },
      "execution_count": 92,
      "outputs": [
        {
          "output_type": "stream",
          "name": "stdout",
          "text": [
            "+------+-------+\n",
            "|client|spentby|\n",
            "+------+-------+\n",
            "|    45|3309.38|\n",
            "|    79|3790.57|\n",
            "|    96|3924.23|\n",
            "|    23|4042.65|\n",
            "|    99|4172.29|\n",
            "|    75| 4178.5|\n",
            "|    36|4278.05|\n",
            "|    98|4297.26|\n",
            "|    47| 4316.3|\n",
            "|    77|4327.73|\n",
            "|    13|4367.62|\n",
            "|    48|4384.33|\n",
            "|    49| 4394.6|\n",
            "|    94|4475.57|\n",
            "|    67|4505.79|\n",
            "|    50|4517.27|\n",
            "|    78|4524.51|\n",
            "|     5|4561.07|\n",
            "|    57| 4628.4|\n",
            "|    83| 4635.8|\n",
            "+------+-------+\n",
            "only showing top 20 rows\n",
            "\n"
          ]
        }
      ]
    },
    {
      "cell_type": "code",
      "source": [],
      "metadata": {
        "id": "cOsNg1Zdcvl7"
      },
      "execution_count": 62,
      "outputs": []
    },
    {
      "cell_type": "code",
      "source": [],
      "metadata": {
        "id": "SGndCmiuTdw-"
      },
      "execution_count": 69,
      "outputs": []
    }
  ]
}